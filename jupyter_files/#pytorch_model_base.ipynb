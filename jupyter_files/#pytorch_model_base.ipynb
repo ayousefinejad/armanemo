{
 "cells": [
  {
   "cell_type": "code",
   "execution_count": 1,
   "metadata": {},
   "outputs": [],
   "source": [
    "import pandas as pd\n",
    "import re\n",
    "import torch\n",
    "\n",
    "from emotion_detection.loader import create_data_loader, split_data\n",
    "from emotion_detection.models import TextClassificationParsBert, pytorch_model\n",
    "\n",
    "from transformers import BertConfig, BertTokenizer, BertModel"
   ]
  },
  {
   "cell_type": "markdown",
   "metadata": {},
   "source": [
    "## hyper-parameters"
   ]
  },
  {
   "cell_type": "code",
   "execution_count": 2,
   "metadata": {},
   "outputs": [],
   "source": [
    "device = torch.device(\"cuda:0\" if torch.cuda.is_available() else \"cpu\")\n",
    "\n",
    "max_len = 128\n",
    "train_batch_size = 128\n",
    "valid_batch_size = 128\n",
    "test_batch_size = 128\n",
    "\n",
    "epoch = 3\n",
    "EEVERY_EPOCH = 1000\n",
    "lr = 2e-5\n",
    "CLIP = 0.0\n"
   ]
  },
  {
   "cell_type": "markdown",
   "metadata": {},
   "source": [
    "##  dataset process"
   ]
  },
  {
   "cell_type": "code",
   "execution_count": 3,
   "metadata": {},
   "outputs": [],
   "source": [
    "data = pd.read_csv('/mnt/disk2/arshia.yousefinezhad/emotion_detection/data/preprocess_labelencoding_data.csv')\n",
    "\n",
    "def preprocess_text(df):\n",
    "    def process_text(text):\n",
    "      text = re.sub(r'[^ا-ی!\\s]', '', text)\n",
    "      text = re.sub('[0-9]','',text)\n",
    "      return text\n",
    "    df.combined_text = df.combined_text.apply(process_text)\n",
    "    return df\n",
    "\n",
    "data_prepared = preprocess_text(data)"
   ]
  },
  {
   "cell_type": "code",
   "execution_count": 4,
   "metadata": {},
   "outputs": [
    {
     "name": "stdout",
     "output_type": "stream",
     "text": [
      "(9306, 3)\n",
      "(1035, 3)\n",
      "(1149, 3)\n"
     ]
    }
   ],
   "source": [
    "train, valid, test = split_data(data_prepared)\n",
    "\n",
    "x_train, y_train = train['combined_text'].values.tolist(), train['emotion_id'].values.tolist()\n",
    "x_valid, y_valid = valid['combined_text'].values.tolist(), valid['emotion_id'].values.tolist()\n",
    "x_test, y_test = test['combined_text'].values.tolist(), test['emotion_id'].values.tolist()"
   ]
  },
  {
   "cell_type": "markdown",
   "metadata": {},
   "source": [
    "## Config"
   ]
  },
  {
   "cell_type": "code",
   "execution_count": 5,
   "metadata": {},
   "outputs": [],
   "source": [
    "parsbert_id = 'HooshvareLab/bert-fa-base-uncased'\n",
    "\n",
    "label_list = list(sorted(data_prepared['emotion'].unique()))\n",
    "\n",
    "label2id = {label: i for i, label in enumerate(label_list)}\n",
    "id2label = {v: k for k, v in label2id.items()}"
   ]
  },
  {
   "cell_type": "markdown",
   "metadata": {},
   "source": [
    "## Tokenizers"
   ]
  },
  {
   "cell_type": "code",
   "execution_count": 6,
   "metadata": {},
   "outputs": [],
   "source": [
    "tokenizer = BertTokenizer.from_pretrained(parsbert_id)\n",
    "bertcofig = BertConfig.from_pretrained(\n",
    "    parsbert_id, **{\n",
    "        'label2id': label2id,\n",
    "        'id2label': id2label,\n",
    "    })\n",
    "\n",
    "\n",
    "model = TextClassificationParsBert(bertcofig, parsbert_id)\n",
    "model = model.to(device)"
   ]
  },
  {
   "cell_type": "code",
   "execution_count": 7,
   "metadata": {},
   "outputs": [],
   "source": [
    "train_data_loader = create_data_loader(train['combined_text'].to_numpy(), train['emotion'].to_numpy(), tokenizer, max_len, train_batch_size, label_list)\n",
    "valid_data_loader = create_data_loader(valid['combined_text'].to_numpy(), valid['emotion'].to_numpy(), tokenizer, max_len, valid_batch_size, label_list)\n",
    "test_data_loader = create_data_loader(test['combined_text'].to_numpy(), test['emotion'].to_numpy(), tokenizer, max_len, test_batch_size, label_list)"
   ]
  },
  {
   "cell_type": "markdown",
   "metadata": {},
   "source": [
    "## ParsBert Model"
   ]
  },
  {
   "cell_type": "code",
   "execution_count": 8,
   "metadata": {},
   "outputs": [
    {
     "name": "stderr",
     "output_type": "stream",
     "text": [
      "100%|██████████| 73/73 [01:12<00:00,  1.00it/s]s]\n",
      "100%|██████████| 9/9 [00:03<00:00,  2.29it/s]\n",
      "Epochs... : 100%|██████████| 1/1 [01:16<00:00, 76.62s/it]\n"
     ]
    },
    {
     "name": "stdout",
     "output_type": "stream",
     "text": [
      "-----------------------------------------------------------\n",
      "| end of epoch   1 | time: 76.62s | valid accuracy    0.644 \n",
      "-----------------------------------------------------------\n",
      "Checking the results of test dataset.\n"
     ]
    },
    {
     "name": "stderr",
     "output_type": "stream",
     "text": [
      "100%|██████████| 9/9 [00:04<00:00,  2.02it/s]\n"
     ]
    },
    {
     "name": "stdout",
     "output_type": "stream",
     "text": [
      "test accuracy    0.644\n"
     ]
    }
   ],
   "source": [
    "criterion = torch.nn.CrossEntropyLoss()\n",
    "optimizer = torch.optim.SGD(model.parameters(), lr=0.1)\n",
    "scheduler = torch.optim.lr_scheduler.StepLR(optimizer, 1.0, gamma=0.1)\n",
    "\n",
    "torch_model = pytorch_model(model, criterion, optimizer, scheduler)\n",
    "torch_model.trainer(train_data_loader, valid_data_loader, test_data_loader, epoch=1)"
   ]
  },
  {
   "cell_type": "code",
   "execution_count": 11,
   "metadata": {},
   "outputs": [
    {
     "name": "stdout",
     "output_type": "stream",
     "text": [
      "این هست یک حالت معمولی \n"
     ]
    }
   ],
   "source": [
    "text = \"خیلی کیفت کوکه! چی شده؟,آره ، آزمون رانندگیمو قبول شدم \\\n",
    "اولین بار بود؟,نه بابا 5 بار رد شده بودم \\\n",
    "پس باید بهم شیرینی بدی,چشم، اینقد خوشحالم که میتونم یه شهرو شیرینی بدم \\\n",
    "حالا نمیخواد ولخرجی کنی ، شکم مارو سیر کنی کافیه,بزن  بریم تجریش یه ناهار مشتی بهت بدم \\\n",
    "بابا شرمنده میکنی,بیا بریم امروز فقط عشق و حاله\"\n",
    "\n",
    "model_torch_model = torch_model.model\n",
    "\n",
    "model = model.to(\"cpu\")\n",
    "\n",
    "print(\"این هست یک حالت %s \" % id2label[torch_model.predict(text, tokenizer)])"
   ]
  }
 ],
 "metadata": {
  "kernelspec": {
   "display_name": "emotion_detection",
   "language": "python",
   "name": "python3"
  },
  "language_info": {
   "codemirror_mode": {
    "name": "ipython",
    "version": 3
   },
   "file_extension": ".py",
   "mimetype": "text/x-python",
   "name": "python",
   "nbconvert_exporter": "python",
   "pygments_lexer": "ipython3",
   "version": "3.11.4"
  }
 },
 "nbformat": 4,
 "nbformat_minor": 2
}
